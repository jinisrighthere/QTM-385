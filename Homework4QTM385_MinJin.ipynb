{
 "cells": [
  {
   "cell_type": "markdown",
   "metadata": {},
   "source": [
    "# QTM 385\n",
    "\n",
    "***\n",
    "\n",
    "## Homework 4\n",
    "\n",
    "Student: [Min Jin 2342423]"
   ]
  },
  {
   "cell_type": "markdown",
   "metadata": {},
   "source": [
    "In this homework, we will create an object called Student, that is useful for a professor to store information about a student."
   ]
  },
  {
   "cell_type": "markdown",
   "metadata": {},
   "source": [
    "\n",
    "***\n",
    "\n",
    "### Question 1\n",
    "\n",
    "Create a class Student, that has:\n",
    "\n",
    "0. Id number (5-digits integer, starting with 1)\n",
    "1. First Name (str)\n",
    "2. Last Name (str)\n",
    "3. Grades (list of floats)\n",
    "4. Credits (list of integers)\n",
    "5. Major (str)\n",
    "\n",
    "Provide a constructor for your class and create one fictitious student."
   ]
  },
  {
   "cell_type": "code",
   "execution_count": 2,
   "metadata": {},
   "outputs": [],
   "source": [
    "# Your answer here\n",
    "class Student:\n",
    "    \n",
    "    # constructor:\n",
    "    def __init__(self, ident, first, last, grade, credit, major):\n",
    "        self.name = first + ' ' + last\n",
    "        self.id = ident\n",
    "        self.first = first\n",
    "        self.last = last\n",
    "        self.grade = grade\n",
    "        self.credit = credit\n",
    "        self.major = major\n",
    "        "
   ]
  },
  {
   "cell_type": "code",
   "execution_count": 28,
   "metadata": {},
   "outputs": [
    {
     "name": "stdout",
     "output_type": "stream",
     "text": [
      "Min Jin 12345 Min Jin [1.3, 4.5, 6.7] [3, 4, 5] QSS\n"
     ]
    }
   ],
   "source": [
    "x = Student(12345, 'Min', 'Jin', [1.3, 4.5, 6.7], [3, 4, 5], 'QSS')\n",
    "print(x.name, x.id, x.first, x.last, x.grade, x.credit, x.major)"
   ]
  },
  {
   "cell_type": "markdown",
   "metadata": {},
   "source": [
    "\n",
    "***\n",
    "\n",
    "### Question 2\n",
    "\n",
    "Create a method to nicely display the student when we type `print`. It should display, for example:\n",
    "\n",
    "```\n",
    "Student:\n",
    "    Id: 12345\n",
    "    Name: Mig, Umberto\n",
    "    Major: QSS\n",
    "```\n",
    "\n",
    "Create a method that, when a variable storing a student is typed in the console, displays:\n",
    "\n",
    "```\n",
    "Student(Mig, Umberto; 12345)\n",
    "```\n",
    "\n",
    "Provide some testing with a fictitious result of your choice."
   ]
  },
  {
   "cell_type": "code",
   "execution_count": 3,
   "metadata": {},
   "outputs": [],
   "source": [
    "# Your answer here\n",
    "class Student(Student):\n",
    "    def __str__(self):\n",
    "        return 'Student: \\n' + '    ID: {}\\n'.format(self.id) + \\\n",
    "    '    Name: {}, {}\\n'.format(self.first, self.last) + '    Major: {}'.format(self.major)\n",
    "    \n",
    "    def __repr__(self):\n",
    "        return f'Student({self.last}, {self.first}; {self.id})'"
   ]
  },
  {
   "cell_type": "code",
   "execution_count": 4,
   "metadata": {},
   "outputs": [
    {
     "name": "stdout",
     "output_type": "stream",
     "text": [
      "Student: \n",
      "    ID: 12345\n",
      "    Name: Min, Jin\n",
      "    Major: QSS\n"
     ]
    },
    {
     "data": {
      "text/plain": [
       "Student(Jin, Min; 12345)"
      ]
     },
     "execution_count": 4,
     "metadata": {},
     "output_type": "execute_result"
    }
   ],
   "source": [
    "x = Student(12345, 'Min', 'Jin', [1.3, 4.5, 6.7], [3, 4, 5], 'QSS')\n",
    "print(x)\n",
    "x"
   ]
  },
  {
   "cell_type": "markdown",
   "metadata": {},
   "source": [
    "\n",
    "***\n",
    "\n",
    "### Question 3\n",
    "\n",
    "Implement class methods for:\n",
    "\n",
    "1. Check if the id number is valid (remember: 5 digits, starting with number one)\n",
    "2. Check if the grades list has the same length as the credits list. The idea is that every grade corresponds to a course that gave the student a certain amount of credits.\n",
    "3. Append grade and credit: given a grade, and credits attached to the grade, append both to each respective place.\n",
    "\n",
    "Test your function with a toy student of your choice."
   ]
  },
  {
   "cell_type": "code",
   "execution_count": 46,
   "metadata": {},
   "outputs": [],
   "source": [
    "# Your answer here\n",
    "class Student(Student):\n",
    "    # check for valid ID number\n",
    "    def regular(self):\n",
    "        if len(list(str(self.id))) == 5 and list(str(self.id))[0] == '1' \\\n",
    "        and len(self.credit) == len(self.grade):\n",
    "            id_num = True\n",
    "            cre_gra = True\n",
    "        else:\n",
    "            id_num = False\n",
    "            cre_gra = True\n",
    "        \n",
    "        return {\n",
    "            'ID Match': id_num,\n",
    "            'Grades and Credits Match': cre_gra\n",
    "        }\n",
    "    \n",
    "    # append grade and credits correctly\n",
    "    def gra_cre_append(self, gra, cre):\n",
    "        self.grade.append(float(gra))\n",
    "        self.credit.append(cre)\n",
    "        "
   ]
  },
  {
   "cell_type": "code",
   "execution_count": 54,
   "metadata": {},
   "outputs": [
    {
     "name": "stdout",
     "output_type": "stream",
     "text": [
      "{'ID Match': True, 'Grades and Credits Match': True}\n",
      "[1.3, 4.5, 6.7, 9.2] [3, 4, 5, 4]\n"
     ]
    }
   ],
   "source": [
    "x = Student(12345, 'Min', 'Jin', [1.3, 4.5, 6.7], [3, 4, 5], 'QSS')\n",
    "print(x.regular())\n",
    "x.gra_cre_append(9.2, 4)\n",
    "print(x.grade, x.credit)"
   ]
  },
  {
   "cell_type": "markdown",
   "metadata": {},
   "source": [
    "\n",
    "***\n",
    "\n",
    "### Question 4\n",
    "\n",
    "Create a module in the class Student that computes the unweighted average of the student's grades."
   ]
  },
  {
   "cell_type": "code",
   "execution_count": 82,
   "metadata": {},
   "outputs": [],
   "source": [
    "# Your answer here\n",
    "class Student(Student):\n",
    "    def uw_gra(self):\n",
    "        final = 0\n",
    "        for i in self.grade:\n",
    "            final += i\n",
    "        return final / len(self.grade)"
   ]
  },
  {
   "cell_type": "code",
   "execution_count": 83,
   "metadata": {},
   "outputs": [
    {
     "data": {
      "text/plain": [
       "4.166666666666667"
      ]
     },
     "execution_count": 83,
     "metadata": {},
     "output_type": "execute_result"
    }
   ],
   "source": [
    "x = Student(12345, 'Min', 'Jin', [1.3, 4.5, 6.7], [3, 4, 5], 'QSS')\n",
    "x.uw_gra()"
   ]
  },
  {
   "cell_type": "markdown",
   "metadata": {},
   "source": [
    "\n",
    "***\n",
    "\n",
    "### Question 5\n",
    "\n",
    "Create a module in the class Student that computes the weighted average of the student's grades, weighted by the credits."
   ]
  },
  {
   "cell_type": "code",
   "execution_count": 86,
   "metadata": {},
   "outputs": [],
   "source": [
    "# Your answer here\n",
    "class Student(Student):\n",
    "    def w_gra(self):\n",
    "        final = 0\n",
    "        denom = 0\n",
    "        # iterate through two lists at the same time\n",
    "        for i, j in zip(self.grade, self.credit):\n",
    "            final += i * j\n",
    "            denom += j\n",
    "        return final / denom"
   ]
  },
  {
   "cell_type": "code",
   "execution_count": 88,
   "metadata": {},
   "outputs": [
    {
     "data": {
      "text/plain": [
       "4.616666666666666"
      ]
     },
     "execution_count": 88,
     "metadata": {},
     "output_type": "execute_result"
    }
   ],
   "source": [
    "x = Student(12345, 'Min', 'Jin', [1.3, 4.5, 6.7], [3, 4, 5], 'QSS')\n",
    "x. w_gra()"
   ]
  },
  {
   "cell_type": "markdown",
   "metadata": {},
   "source": [
    "**That's all, folks!**"
   ]
  }
 ],
 "metadata": {
  "kernelspec": {
   "display_name": "conda_base",
   "language": "python",
   "name": "base"
  },
  "language_info": {
   "codemirror_mode": {
    "name": "ipython",
    "version": 3
   },
   "file_extension": ".py",
   "mimetype": "text/x-python",
   "name": "python",
   "nbconvert_exporter": "python",
   "pygments_lexer": "ipython3",
   "version": "3.8.5"
  }
 },
 "nbformat": 4,
 "nbformat_minor": 4
}
