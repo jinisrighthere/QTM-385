{
 "cells": [
  {
   "cell_type": "code",
   "execution_count": 1,
   "metadata": {},
   "outputs": [
    {
     "name": "stdout",
     "output_type": "stream",
     "text": [
      "a b c \n",
      "\n",
      "d e f \n",
      "\n",
      "g h i \n",
      "\n"
     ]
    }
   ],
   "source": [
    "# Create 3x3 matrix starting with the letter \"a\"\n",
    "mtx = [['a','b','c'],\n",
    "       ['d','e','f'],\n",
    "       ['g','h','i']\n",
    "      ]\n",
    "\n",
    "# Use for loop to print the matrix\n",
    "for i in mtx:\n",
    "    count = 0\n",
    "    for f in i:\n",
    "        print(f, end = ' ')\n",
    "        count += 1\n",
    "    if count == 3:\n",
    "        print('\\n')\n"
   ]
  },
  {
   "cell_type": "code",
   "execution_count": 2,
   "metadata": {},
   "outputs": [
    {
     "name": "stdout",
     "output_type": "stream",
     "text": [
      "aei\n"
     ]
    }
   ],
   "source": [
    "#1 Extract the diagonal using for loop\n",
    "dia = ''\n",
    "for row in mtx:\n",
    "    for element in row:\n",
    "        if mtx.index(row) == row.index(element):\n",
    "            dia += element\n",
    "print(dia)"
   ]
  },
  {
   "cell_type": "code",
   "execution_count": 3,
   "metadata": {},
   "outputs": [
    {
     "name": "stdout",
     "output_type": "stream",
     "text": [
      "AEI\n"
     ]
    }
   ],
   "source": [
    "#2 Make the diagonal uppercase\n",
    "dia_upper = dia.upper()\n",
    "print(dia_upper)"
   ]
  }
 ],
 "metadata": {
  "kernelspec": {
   "display_name": "conda_base",
   "language": "python",
   "name": "base"
  },
  "language_info": {
   "codemirror_mode": {
    "name": "ipython",
    "version": 3
   },
   "file_extension": ".py",
   "mimetype": "text/x-python",
   "name": "python",
   "nbconvert_exporter": "python",
   "pygments_lexer": "ipython3",
   "version": "3.8.5"
  }
 },
 "nbformat": 4,
 "nbformat_minor": 4
}
